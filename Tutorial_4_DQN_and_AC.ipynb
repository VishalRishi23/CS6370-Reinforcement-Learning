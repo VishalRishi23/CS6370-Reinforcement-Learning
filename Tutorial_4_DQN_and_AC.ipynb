{
  "nbformat": 4,
  "nbformat_minor": 0,
  "metadata": {
    "colab": {
      "name": "Tutorial_4_DQN_and_AC.ipynb",
      "provenance": [],
      "collapsed_sections": [
        "5LBh6_lOVBdN"
      ]
    },
    "kernelspec": {
      "name": "python3",
      "display_name": "Python 3"
    },
    "language_info": {
      "name": "python"
    },
    "accelerator": "GPU"
  },
  "cells": [
    {
      "cell_type": "markdown",
      "source": [
        "#**Tutorial 4 - DQN and Actor-Critic**\n",
        "\n",
        "Please follow this tutorial to understand the structure (code) of DQNs & get familiar with Actor Critic methods.\n",
        "\n",
        "\n",
        "### References:\n",
        "\n",
        "Please follow [Human-level control through deep reinforcement learning](https://www.nature.com/articles/nature14236) for the original publication as well as the psuedocode. Watch Prof. Ravi's lectures on moodle or nptel for further understanding the core concepts. Contact the TAs for further resources if needed. \n",
        "\n",
        "\n",
        "##**Part 1: DQN**"
      ],
      "metadata": {
        "id": "pn7PKu9r0asK"
      }
    },
    {
      "cell_type": "code",
      "source": [
        "'''\n",
        "Installing packages for rendering the game on Colab\n",
        "'''\n",
        "\n",
        "!pip install gym pyvirtualdisplay > /dev/null 2>&1\n",
        "!apt-get install -y xvfb python-opengl ffmpeg > /dev/null 2>&1\n",
        "!apt-get update > /dev/null 2>&1\n",
        "!apt-get install cmake > /dev/null 2>&1\n",
        "!pip install --upgrade setuptools 2>&1\n",
        "!pip install ez_setup > /dev/null 2>&1\n",
        "!pip install gym[atari] > /dev/null 2>&1\n",
        "!pip install git+https://github.com/tensorflow/docs > /dev/null 2>&1"
      ],
      "metadata": {
        "colab": {
          "base_uri": "https://localhost:8080/"
        },
        "id": "azUjb7UK4Yfh",
        "outputId": "260bb26f-0193-49f7-9ec7-222bf5cfbae0"
      },
      "execution_count": 2,
      "outputs": [
        {
          "output_type": "stream",
          "name": "stdout",
          "text": [
            "Requirement already satisfied: setuptools in /usr/local/lib/python3.7/dist-packages (60.9.3)\n"
          ]
        }
      ]
    },
    {
      "cell_type": "code",
      "source": [
        "!pip install tensorflow-gpu"
      ],
      "metadata": {
        "id": "dfCgocAHOZ6n"
      },
      "execution_count": null,
      "outputs": []
    },
    {
      "cell_type": "code",
      "source": [
        "'''\n",
        "A bunch of imports, you don't have to worry about these\n",
        "'''\n",
        "\n",
        "import numpy as np\n",
        "from scipy.special import softmax\n",
        "import random\n",
        "import torch\n",
        "import torch.nn as nn  \n",
        "import torch.nn.functional as F\n",
        "from collections import namedtuple, deque\n",
        "import torch.optim as optim\n",
        "import datetime\n",
        "import gym\n",
        "from gym.wrappers import Monitor\n",
        "import glob\n",
        "import io\n",
        "import base64\n",
        "import matplotlib.pyplot as plt\n",
        "from IPython.display import HTML\n",
        "from pyvirtualdisplay import Display\n",
        "import tensorflow as tf\n",
        "from IPython import display as ipythondisplay\n",
        "from PIL import Image\n",
        "import tensorflow_probability as tfp"
      ],
      "metadata": {
        "id": "P_DODRgW_ZKS"
      },
      "execution_count": 1,
      "outputs": []
    },
    {
      "cell_type": "code",
      "source": [
        "'''\n",
        "Please refer to the first tutorial for more details on the specifics of environments\n",
        "We've only added important commands you might find useful for experiments.\n",
        "'''\n",
        "\n",
        "'''\n",
        "List of example environments\n",
        "(Source - https://gym.openai.com/envs/#classic_control)\n",
        "\n",
        "'Acrobot-v1'\n",
        "'CartPole-v0'\n",
        "'MountainCar-v0'\n",
        "'''\n",
        "\n",
        "env = gym.make('CartPole-v0')\n",
        "env.seed(0)\n",
        "\n",
        "state_shape = env.observation_space.shape[0]\n",
        "no_of_actions = env.action_space.n\n",
        "\n",
        "print(state_shape)\n",
        "print(no_of_actions)\n",
        "print(env.action_space.sample())\n",
        "print(\"----\")\n",
        "\n",
        "'''\n",
        "# Understanding State, Action, Reward Dynamics\n",
        "\n",
        "The agent decides an action to take depending on the state.\n",
        "\n",
        "The Environment keeps a variable specifically for the current state.\n",
        "- Everytime an action is passed to the environment, it calculates the new state and updates the current state variable.\n",
        "- It returns the new current state and reward for the agent to take the next action\n",
        "\n",
        "'''\n",
        "\n",
        "state = env.reset()   \n",
        "''' This returns the initial state (when environment is reset) '''\n",
        "\n",
        "print(state)\n",
        "print(\"----\")\n",
        "\n",
        "action = env.action_space.sample()  \n",
        "''' We take a random action now '''\n",
        "\n",
        "print(action)\n",
        "print(\"----\")\n",
        "\n",
        "next_state, reward, done, info = env.step(action) \n",
        "''' env.step is used to calculate new state and obtain reward based on old state and action taken  ''' \n",
        "\n",
        "print(next_state)\n",
        "print(reward)\n",
        "print(done)\n",
        "print(info)\n",
        "print(\"----\")\n"
      ],
      "metadata": {
        "colab": {
          "base_uri": "https://localhost:8080/"
        },
        "id": "fYNA5kiH_esJ",
        "outputId": "66742c7d-77a6-4875-8c40-0db1f3e95ce2"
      },
      "execution_count": 4,
      "outputs": [
        {
          "output_type": "stream",
          "name": "stdout",
          "text": [
            "4\n",
            "2\n",
            "0\n",
            "----\n",
            "[-0.04456399  0.04653909  0.01326909 -0.02099827]\n",
            "----\n",
            "1\n",
            "----\n",
            "[-0.04363321  0.24146826  0.01284913 -0.30946528]\n",
            "1.0\n",
            "False\n",
            "{}\n",
            "----\n"
          ]
        }
      ]
    },
    {
      "cell_type": "markdown",
      "source": [
        "## DQN\n",
        "\n",
        "Using NNs as substitutes isn't something new. It has been tried earlier, but the 'human control' paper really popularised using NNs by providing a few stability ideas (Q-Targets, Experience Replay & Truncation). The 'Deep-Q Network' (DQN) Algorithm can be broken down into having the following components. \n",
        "\n",
        "### Q-Network:\n",
        "The neural network used as a function approximator is defined below"
      ],
      "metadata": {
        "id": "apuaOxavDXus"
      }
    },
    {
      "cell_type": "code",
      "source": [
        "'''\n",
        "### Q Network & Some 'hyperparameters'\n",
        "\n",
        "QNetwork1:\n",
        "Input Layer - 4 nodes (State Shape) \\\n",
        "Hidden Layer 1 - 64 nodes \\\n",
        "Hidden Layer 2 - 64 nodes \\\n",
        "Output Layer - 2 nodes (Action Space) \\\n",
        "Optimizer - zero_grad()\n",
        "\n",
        "QNetwork2: Feel free to experiment more\n",
        "'''\n",
        "\n",
        "import torch\n",
        "import torch.nn as nn  \n",
        "import torch.nn.functional as F\n",
        "\n",
        "\n",
        "'''\n",
        "Bunch of Hyper parameters (Which you might have to tune later **wink wink**)\n",
        "'''\n",
        "BUFFER_SIZE = int(1e5)  \n",
        "BATCH_SIZE = 64         \n",
        "GAMMA = 0.99            \n",
        "LR = 5e-4               \n",
        "UPDATE_EVERY = 20       \n",
        "\n",
        "\n",
        "class QNetwork1(nn.Module):\n",
        "\n",
        "    def __init__(self, state_size, action_size, seed, fc1_units=128, fc2_units=64):\n",
        "        \"\"\"Initialize parameters and build model.\n",
        "        Params\n",
        "        ======\n",
        "            state_size (int): Dimension of each state\n",
        "            action_size (int): Dimension of each action\n",
        "            seed (int): Random seed\n",
        "            fc1_units (int): Number of nodes in first hidden layer\n",
        "            fc2_units (int): Number of nodes in second hidden layer\n",
        "        \"\"\"\n",
        "        super(QNetwork1, self).__init__()\n",
        "        self.seed = torch.manual_seed(seed)\n",
        "        self.fc1 = nn.Linear(state_size, fc1_units)\n",
        "        self.fc2 = nn.Linear(fc1_units, fc2_units)\n",
        "        self.fc3 = nn.Linear(fc2_units, action_size)\n",
        "\n",
        "    def forward(self, state):\n",
        "        \"\"\"Build a network that maps state -> action values.\"\"\"\n",
        "        x = F.relu(self.fc1(state))\n",
        "        x = F.relu(self.fc2(x))\n",
        "        return self.fc3(x)"
      ],
      "metadata": {
        "id": "g4MRC1p2DZbp"
      },
      "execution_count": 5,
      "outputs": []
    },
    {
      "cell_type": "markdown",
      "source": [
        "### Replay Buffer:\n",
        "\n",
        "This is a 'deque' that helps us store experiences. Recall why we use such a technique."
      ],
      "metadata": {
        "id": "Jmv5c0XoK8GA"
      }
    },
    {
      "cell_type": "code",
      "source": [
        "import random\n",
        "import torch\n",
        "import numpy as np\n",
        "from collections import deque, namedtuple\n",
        "\n",
        "device = torch.device(\"cuda:0\" if torch.cuda.is_available() else \"cpu\")\n",
        "\n",
        "class ReplayBuffer:\n",
        "    \"\"\"Fixed-size buffer to store experience tuples.\"\"\"\n",
        "\n",
        "    def __init__(self, action_size, buffer_size, batch_size, seed):\n",
        "        \"\"\"Initialize a ReplayBuffer object.\n",
        "\n",
        "        Params\n",
        "        ======\n",
        "            action_size (int): dimension of each action\n",
        "            buffer_size (int): maximum size of buffer\n",
        "            batch_size (int): size of each training batch\n",
        "            seed (int): random seed\n",
        "        \"\"\"\n",
        "        self.action_size = action_size\n",
        "        self.memory = deque(maxlen=buffer_size)  \n",
        "        self.batch_size = batch_size\n",
        "        self.experience = namedtuple(\"Experience\", field_names=[\"state\", \"action\", \"reward\", \"next_state\", \"done\"])\n",
        "        self.seed = random.seed(seed)\n",
        "    \n",
        "    def add(self, state, action, reward, next_state, done):\n",
        "        \"\"\"Add a new experience to memory.\"\"\"\n",
        "        e = self.experience(state, action, reward, next_state, done)\n",
        "        self.memory.append(e)\n",
        "    \n",
        "    def sample(self):\n",
        "        \"\"\"Randomly sample a batch of experiences from memory.\"\"\"\n",
        "        experiences = random.sample(self.memory, k=self.batch_size)\n",
        "\n",
        "        states = torch.from_numpy(np.vstack([e.state for e in experiences if e is not None])).float().to(device)\n",
        "        actions = torch.from_numpy(np.vstack([e.action for e in experiences if e is not None])).long().to(device)\n",
        "        rewards = torch.from_numpy(np.vstack([e.reward for e in experiences if e is not None])).float().to(device)\n",
        "        next_states = torch.from_numpy(np.vstack([e.next_state for e in experiences if e is not None])).float().to(device)\n",
        "        dones = torch.from_numpy(np.vstack([e.done for e in experiences if e is not None]).astype(np.uint8)).float().to(device)\n",
        "  \n",
        "        return (states, actions, rewards, next_states, dones)\n",
        "\n",
        "    def __len__(self):\n",
        "        \"\"\"Return the current size of internal memory.\"\"\"\n",
        "        return len(self.memory)"
      ],
      "metadata": {
        "id": "bh_oghc7Ledh"
      },
      "execution_count": 6,
      "outputs": []
    },
    {
      "cell_type": "markdown",
      "source": [
        "## Truncation:\n",
        "We add a line (optionally) in the code to truncate the gradient in hopes that it would help with the stability of the learning process.\n",
        "\n",
        "## Tutorial Agent Code:\n"
      ],
      "metadata": {
        "id": "N8VJYkqoLqlO"
      }
    },
    {
      "cell_type": "code",
      "source": [
        "class TutorialAgent():\n",
        "\n",
        "    def __init__(self, state_size, action_size, seed):\n",
        "\n",
        "        ''' Agent Environment Interaction '''\n",
        "        self.state_size = state_size\n",
        "        self.action_size = action_size\n",
        "        self.seed = random.seed(seed)\n",
        "\n",
        "        ''' Q-Network '''\n",
        "        self.qnetwork_local = QNetwork1(state_size, action_size, seed).to(device)\n",
        "        self.qnetwork_target = QNetwork1(state_size, action_size, seed).to(device)\n",
        "        self.optimizer = optim.Adam(self.qnetwork_local.parameters(), lr=LR)\n",
        "\n",
        "        ''' Replay memory '''\n",
        "        self.memory = ReplayBuffer(action_size, BUFFER_SIZE, BATCH_SIZE, seed)\n",
        "\n",
        "        ''' Initialize time step (for updating every UPDATE_EVERY steps)           -Needed for Q Targets '''\n",
        "        self.t_step = 0\n",
        "    \n",
        "    def step(self, state, action, reward, next_state, done):\n",
        "\n",
        "        ''' Save experience in replay memory '''\n",
        "        self.memory.add(state, action, reward, next_state, done)\n",
        "        \n",
        "        ''' If enough samples are available in memory, get random subset and learn '''\n",
        "        if len(self.memory) >= BATCH_SIZE:\n",
        "            experiences = self.memory.sample()\n",
        "            self.learn(experiences, GAMMA)\n",
        "\n",
        "        \"\"\" +Q TARGETS PRESENT \"\"\"\n",
        "        ''' Updating the Network every 'UPDATE_EVERY' steps taken '''      \n",
        "        self.t_step = (self.t_step + 1) % UPDATE_EVERY\n",
        "        if self.t_step == 0:\n",
        "\n",
        "            self.qnetwork_target.load_state_dict(self.qnetwork_local.state_dict())\n",
        "\n",
        "    def act(self, state, eps=0.):\n",
        "\n",
        "        state = torch.from_numpy(state).float().unsqueeze(0).to(device)\n",
        "        self.qnetwork_local.eval()\n",
        "        with torch.no_grad():\n",
        "            action_values = self.qnetwork_local(state)\n",
        "        self.qnetwork_local.train()\n",
        "\n",
        "        ''' Epsilon-greedy action selection (Already Present) '''\n",
        "        if random.random() > eps:\n",
        "            return np.argmax(action_values.cpu().data.numpy())\n",
        "        else:\n",
        "            return random.choice(np.arange(self.action_size))\n",
        "\n",
        "    def learn(self, experiences, gamma):\n",
        "        \"\"\" +E EXPERIENCE REPLAY PRESENT \"\"\"\n",
        "        states, actions, rewards, next_states, dones = experiences\n",
        "\n",
        "        ''' Get max predicted Q values (for next states) from target model'''\n",
        "        Q_targets_next = self.qnetwork_target(next_states).detach().max(1)[0].unsqueeze(1)\n",
        "\n",
        "        ''' Compute Q targets for current states '''\n",
        "        Q_targets = rewards + (gamma * Q_targets_next * (1 - dones))\n",
        "\n",
        "        ''' Get expected Q values from local model '''\n",
        "        Q_expected = self.qnetwork_local(states).gather(1, actions)\n",
        "\n",
        "        ''' Compute loss '''\n",
        "        loss = F.mse_loss(Q_expected, Q_targets)\n",
        "\n",
        "        ''' Minimize the loss '''\n",
        "        self.optimizer.zero_grad()\n",
        "        loss.backward()\n",
        "        \n",
        "        ''' Gradiant Clipping '''\n",
        "        \"\"\" +T TRUNCATION PRESENT \"\"\"\n",
        "        for param in self.qnetwork_local.parameters():\n",
        "            param.grad.data.clamp_(-1, 1)\n",
        "            \n",
        "        self.optimizer.step()"
      ],
      "metadata": {
        "id": "ok_5eQM7OCTj"
      },
      "execution_count": 7,
      "outputs": []
    },
    {
      "cell_type": "markdown",
      "source": [
        "### Here, we present the DQN algorithm code."
      ],
      "metadata": {
        "id": "3SQFbRCHWQyO"
      }
    },
    {
      "cell_type": "code",
      "source": [
        "''' Defining DQN Algorithm '''\n",
        "\n",
        "state_shape = env.observation_space.shape[0]\n",
        "action_shape = env.action_space.n\n",
        "\n",
        "def dqn(n_episodes=10000, max_t=1000, eps_start=1.0, eps_end=0.01, eps_decay=0.995):\n",
        "\n",
        "    scores = []                 \n",
        "    ''' list containing scores from each episode '''\n",
        "\n",
        "    scores_window_printing = deque(maxlen=10) \n",
        "    ''' For printing in the graph '''\n",
        "    \n",
        "    scores_window= deque(maxlen=100)  \n",
        "    ''' last 100 scores for checking if the avg is more than 195 '''\n",
        "\n",
        "    eps = eps_start                    \n",
        "    ''' initialize epsilon '''\n",
        "\n",
        "    for i_episode in range(1, n_episodes+1):\n",
        "        state = env.reset()\n",
        "        score = 0\n",
        "        for t in range(max_t):\n",
        "            action = agent.act(state, eps)\n",
        "            next_state, reward, done, _ = env.step(action)\n",
        "            agent.step(state, action, reward, next_state, done)\n",
        "            state = next_state\n",
        "            score += reward\n",
        "            if done:\n",
        "                break \n",
        "\n",
        "        scores_window.append(score)       \n",
        "        scores_window_printing.append(score)   \n",
        "        ''' save most recent score '''           \n",
        "\n",
        "        eps = max(eps_end, eps_decay*eps) \n",
        "        ''' decrease epsilon '''\n",
        "\n",
        "        print('\\rEpisode {}\\tAverage Score: {:.2f}'.format(i_episode, np.mean(scores_window)), end=\"\")  \n",
        "        if i_episode % 10 == 0: \n",
        "            scores.append(np.mean(scores_window_printing))        \n",
        "        if i_episode % 100 == 0: \n",
        "           print('\\rEpisode {}\\tAverage Score: {:.2f}'.format(i_episode, np.mean(scores_window)))\n",
        "        if np.mean(scores_window)>=195.0:\n",
        "           print('\\nEnvironment solved in {:d} episodes!\\tAverage Score: {:.2f}'.format(i_episode-100, np.mean(scores_window)))\n",
        "           break\n",
        "    return [np.array(scores),i_episode-100]\n",
        "\n",
        "''' Trial run to check if algorithm runs and saves the data '''"
      ],
      "metadata": {
        "colab": {
          "base_uri": "https://localhost:8080/",
          "height": 35
        },
        "id": "r6A2TdUHWVUN",
        "outputId": "879c7a40-adbb-40bd-def0-7fa8285b093b"
      },
      "execution_count": 8,
      "outputs": [
        {
          "output_type": "execute_result",
          "data": {
            "application/vnd.google.colaboratory.intrinsic+json": {
              "type": "string"
            },
            "text/plain": [
              "' Trial run to check if algorithm runs and saves the data '"
            ]
          },
          "metadata": {},
          "execution_count": 8
        }
      ]
    },
    {
      "cell_type": "markdown",
      "source": [
        "### **Task 1a**  \n",
        "Understand the core of the algorithm, follow the flow of data. Identify the exploration strategy used.\n",
        "### **Task 1b**\n",
        "Out of the two exploration strategies discussed in class ($ϵ$-greedy & Softmax). Implement the strategy that's not used here. \n",
        "### **Task 1c**\n",
        "How fast does the agent 'solve' the environment in terms of the number of episodes?\n",
        "(CartPole-v0 defines \"solving\" as getting average reward of 195.0 over 100 consecutive trials. SOURCE - https://gym.openai.com/envs/CartPole-v0/)\n",
        "\n",
        "How 'well' does the agent learn? (reward plot?) The above two are some 'evaluation metrics' you can use to comment on the performance of an algorithm.\n",
        "\n",
        "Please compare DQN (using $\\epsilon$-greedy) with DQN (using softmax). Think along the lines of 'no. of episodes', 'reward plots', 'compute time', etc. and add a few comments.\n",
        "\n",
        "### **Task 1d (Optional)** \n",
        "\n",
        "Take a look at the official submissions page on [OpenAI gym's CartPole v-0 evaluations](https://gym.openai.com/envs/CartPole-v0/) \n",
        "\n",
        "\n"
      ],
      "metadata": {
        "id": "sL9YMq9yPHLk"
      }
    },
    {
      "cell_type": "markdown",
      "source": [
        "#### **Submission Steps**\n",
        "\n",
        "#### Task 1: Add a text cell with the answer.\n",
        "\n",
        "#### Task 2: Add a code cell below task 1 solution and use 'Tutorial Agent Code' to build your new agent (with a different exploration strategy).\n",
        "\n",
        "#### Task 3: Add a code cell below task 2 solution running both the agents to solve the CartPole v-0 environment and add a new text cell below it with your inferences."
      ],
      "metadata": {
        "id": "5LBh6_lOVBdN"
      }
    },
    {
      "cell_type": "markdown",
      "source": [
        "### Task 1a: The exploration strategy used is an epsilon-greedy policy"
      ],
      "metadata": {
        "id": "qcMGJw2SErQp"
      }
    },
    {
      "cell_type": "markdown",
      "source": [
        "### Task 1b"
      ],
      "metadata": {
        "id": "dQNYpxPzFLHd"
      }
    },
    {
      "cell_type": "code",
      "source": [
        "class TutorialAgent_softmax():\n",
        "\n",
        "    def __init__(self, state_size, action_size, seed):\n",
        "\n",
        "        ''' Agent Environment Interaction '''\n",
        "        self.state_size = state_size\n",
        "        self.action_size = action_size\n",
        "        self.seed = random.seed(seed)\n",
        "\n",
        "        ''' Q-Network '''\n",
        "        self.qnetwork_local = QNetwork1(state_size, action_size, seed).to(device)\n",
        "        self.qnetwork_target = QNetwork1(state_size, action_size, seed).to(device)\n",
        "        self.optimizer = optim.Adam(self.qnetwork_local.parameters(), lr=LR)\n",
        "\n",
        "        ''' Replay memory '''\n",
        "        self.memory = ReplayBuffer(action_size, BUFFER_SIZE, BATCH_SIZE, seed)\n",
        "\n",
        "        ''' Initialize time step (for updating every UPDATE_EVERY steps)           -Needed for Q Targets '''\n",
        "        self.t_step = 0\n",
        "    \n",
        "    def step(self, state, action, reward, next_state, done):\n",
        "\n",
        "        ''' Save experience in replay memory '''\n",
        "        self.memory.add(state, action, reward, next_state, done)\n",
        "        \n",
        "        ''' If enough samples are available in memory, get random subset and learn '''\n",
        "        if len(self.memory) >= BATCH_SIZE:\n",
        "            experiences = self.memory.sample()\n",
        "            self.learn(experiences, GAMMA)\n",
        "\n",
        "        \"\"\" +Q TARGETS PRESENT \"\"\"\n",
        "        ''' Updating the Network every 'UPDATE_EVERY' steps taken '''      \n",
        "        self.t_step = (self.t_step + 1) % UPDATE_EVERY\n",
        "        if self.t_step == 0:\n",
        "\n",
        "            self.qnetwork_target.load_state_dict(self.qnetwork_local.state_dict())\n",
        "\n",
        "    def act(self, state, eps=0.):\n",
        "\n",
        "        state = torch.from_numpy(state).float().unsqueeze(0).to(device)\n",
        "        self.qnetwork_local.eval()\n",
        "        with torch.no_grad():\n",
        "            action_values = self.qnetwork_local(state)\n",
        "        self.qnetwork_local.train()\n",
        "\n",
        "        ''' Softmax action selection (Already Present) '''\n",
        "        return random.choices(np.arange(self.action_size), weights = softmax(action_values.cpu().data.numpy()).ravel())[-1]\n",
        "\n",
        "    def learn(self, experiences, gamma):\n",
        "        \"\"\" +E EXPERIENCE REPLAY PRESENT \"\"\"\n",
        "        states, actions, rewards, next_states, dones = experiences\n",
        "\n",
        "        ''' Get max predicted Q values (for next states) from target model'''\n",
        "        Q_targets_next = self.qnetwork_target(next_states).detach().max(1)[0].unsqueeze(1)\n",
        "\n",
        "        ''' Compute Q targets for current states '''\n",
        "        Q_targets = rewards + (gamma * Q_targets_next * (1 - dones))\n",
        "\n",
        "        ''' Get expected Q values from local model '''\n",
        "        Q_expected = self.qnetwork_local(states).gather(1, actions)\n",
        "\n",
        "        ''' Compute loss '''\n",
        "        loss = F.mse_loss(Q_expected, Q_targets)\n",
        "\n",
        "        ''' Minimize the loss '''\n",
        "        self.optimizer.zero_grad()\n",
        "        loss.backward()\n",
        "        \n",
        "        ''' Gradiant Clipping '''\n",
        "        \"\"\" +T TRUNCATION PRESENT \"\"\"\n",
        "        for param in self.qnetwork_local.parameters():\n",
        "            param.grad.data.clamp_(-1, 1)\n",
        "            \n",
        "        self.optimizer.step()"
      ],
      "metadata": {
        "id": "D1tj8HUZFm0z"
      },
      "execution_count": 9,
      "outputs": []
    },
    {
      "cell_type": "markdown",
      "source": [
        "### Task 1c"
      ],
      "metadata": {
        "id": "w3VGaY_mIBhS"
      }
    },
    {
      "cell_type": "code",
      "source": [
        "# Epsilon-greedy\n",
        "begin_time = datetime.datetime.now()\n",
        "agent = TutorialAgent(state_size=state_shape,action_size = action_shape,seed = 0)\n",
        "\n",
        "\n",
        "dqn()\n",
        "\n",
        "\n",
        "time_taken = datetime.datetime.now() - begin_time\n",
        "\n",
        "print(time_taken)\n",
        "\n",
        "# Softmax\n",
        "begin_time = datetime.datetime.now()\n",
        "agent = TutorialAgent_softmax(state_size=state_shape,action_size = action_shape,seed = 0)\n",
        "\n",
        "\n",
        "dqn()\n",
        "\n",
        "\n",
        "time_taken = datetime.datetime.now() - begin_time\n",
        "\n",
        "print(time_taken)"
      ],
      "metadata": {
        "colab": {
          "base_uri": "https://localhost:8080/"
        },
        "id": "NbptKIo6IDvK",
        "outputId": "3df50ccc-226a-4daf-a9e9-195676c01c5a"
      },
      "execution_count": 10,
      "outputs": [
        {
          "output_type": "stream",
          "name": "stdout",
          "text": [
            "Episode 100\tAverage Score: 38.69\n",
            "Episode 200\tAverage Score: 120.03\n",
            "Episode 300\tAverage Score: 126.52\n",
            "Episode 400\tAverage Score: 14.24\n",
            "Episode 500\tAverage Score: 20.75\n",
            "Episode 600\tAverage Score: 47.03\n",
            "Episode 700\tAverage Score: 9.60\n",
            "Episode 800\tAverage Score: 10.21\n",
            "Episode 900\tAverage Score: 39.85\n",
            "Episode 1000\tAverage Score: 17.05\n",
            "Episode 1100\tAverage Score: 17.14\n",
            "Episode 1200\tAverage Score: 43.87\n",
            "Episode 1300\tAverage Score: 120.38\n",
            "Episode 1400\tAverage Score: 142.00\n",
            "Episode 1500\tAverage Score: 139.40\n",
            "Episode 1600\tAverage Score: 149.50\n",
            "Episode 1700\tAverage Score: 147.83\n",
            "Episode 1800\tAverage Score: 149.39\n",
            "Episode 1900\tAverage Score: 187.50\n",
            "Episode 1915\tAverage Score: 195.48\n",
            "Environment solved in 1815 episodes!\tAverage Score: 195.48\n",
            "0:08:36.674556\n",
            "Episode 100\tAverage Score: 122.25\n",
            "Episode 200\tAverage Score: 56.42\n",
            "Episode 300\tAverage Score: 67.29\n",
            "Episode 400\tAverage Score: 16.89\n",
            "Episode 500\tAverage Score: 10.42\n",
            "Episode 600\tAverage Score: 18.70\n",
            "Episode 700\tAverage Score: 12.14\n",
            "Episode 800\tAverage Score: 50.27\n",
            "Episode 900\tAverage Score: 66.88\n",
            "Episode 1000\tAverage Score: 188.49\n",
            "Episode 1100\tAverage Score: 111.38\n",
            "Episode 1200\tAverage Score: 47.26\n",
            "Episode 1300\tAverage Score: 13.29\n",
            "Episode 1400\tAverage Score: 9.29\n",
            "Episode 1500\tAverage Score: 9.47\n",
            "Episode 1600\tAverage Score: 13.23\n",
            "Episode 1700\tAverage Score: 11.17\n",
            "Episode 1800\tAverage Score: 15.15\n",
            "Episode 1900\tAverage Score: 41.87\n",
            "Episode 2000\tAverage Score: 19.06\n",
            "Episode 2100\tAverage Score: 26.55\n",
            "Episode 2200\tAverage Score: 9.39\n",
            "Episode 2300\tAverage Score: 9.25\n",
            "Episode 2400\tAverage Score: 9.53\n",
            "Episode 2500\tAverage Score: 13.22\n",
            "Episode 2600\tAverage Score: 9.46\n",
            "Episode 2700\tAverage Score: 9.38\n",
            "Episode 2800\tAverage Score: 9.39\n",
            "Episode 2900\tAverage Score: 9.23\n",
            "Episode 3000\tAverage Score: 9.32\n",
            "Episode 3100\tAverage Score: 9.41\n",
            "Episode 3200\tAverage Score: 9.44\n",
            "Episode 3300\tAverage Score: 9.60\n",
            "Episode 3400\tAverage Score: 10.12\n",
            "Episode 3500\tAverage Score: 10.75\n",
            "Episode 3600\tAverage Score: 11.48\n",
            "Episode 3700\tAverage Score: 13.94\n",
            "Episode 3800\tAverage Score: 35.62\n",
            "Episode 3900\tAverage Score: 20.62\n",
            "Episode 4000\tAverage Score: 22.22\n",
            "Episode 4100\tAverage Score: 25.44\n",
            "Episode 4200\tAverage Score: 43.87\n",
            "Episode 4300\tAverage Score: 75.55\n",
            "Episode 4400\tAverage Score: 104.66\n",
            "Episode 4500\tAverage Score: 36.79\n",
            "Episode 4600\tAverage Score: 27.65\n",
            "Episode 4700\tAverage Score: 20.72\n",
            "Episode 4800\tAverage Score: 16.03\n",
            "Episode 4900\tAverage Score: 13.17\n",
            "Episode 5000\tAverage Score: 11.74\n",
            "Episode 5100\tAverage Score: 10.97\n",
            "Episode 5200\tAverage Score: 10.37\n",
            "Episode 5300\tAverage Score: 10.30\n",
            "Episode 5400\tAverage Score: 10.06\n",
            "Episode 5500\tAverage Score: 10.02\n",
            "Episode 5600\tAverage Score: 10.14\n",
            "Episode 5700\tAverage Score: 10.18\n",
            "Episode 5800\tAverage Score: 10.24\n",
            "Episode 5900\tAverage Score: 10.49\n",
            "Episode 6000\tAverage Score: 10.61\n",
            "Episode 6100\tAverage Score: 10.81\n",
            "Episode 6200\tAverage Score: 11.21\n",
            "Episode 6300\tAverage Score: 11.64\n",
            "Episode 6400\tAverage Score: 12.19\n",
            "Episode 6500\tAverage Score: 13.32\n",
            "Episode 6600\tAverage Score: 14.23\n",
            "Episode 6700\tAverage Score: 15.97\n",
            "Episode 6800\tAverage Score: 17.27\n",
            "Episode 6900\tAverage Score: 19.39\n",
            "Episode 7000\tAverage Score: 20.79\n",
            "Episode 7100\tAverage Score: 22.41\n",
            "Episode 7200\tAverage Score: 26.74\n",
            "Episode 7300\tAverage Score: 70.06\n",
            "Episode 7400\tAverage Score: 175.22\n",
            "Episode 7426\tAverage Score: 195.27\n",
            "Environment solved in 7326 episodes!\tAverage Score: 195.27\n",
            "0:12:05.590909\n"
          ]
        }
      ]
    },
    {
      "cell_type": "markdown",
      "source": [
        "### Inference:\n",
        "The agent reaches the target (average reward of 195) much quicker when trained with an epsilon-greedy policy than when trained with a softmax behavorial policy. In both the training phases, the average reward increases and then decreases, showing signs of instability.  "
      ],
      "metadata": {
        "id": "uD9v1YQoSRQj"
      }
    },
    {
      "cell_type": "markdown",
      "source": [
        "## **Part 2: One-Step Actor-Critic Algorithm**"
      ],
      "metadata": {
        "id": "Zt6xX0njbJvS"
      }
    },
    {
      "cell_type": "markdown",
      "source": [
        "**Actor-Critic methods** learn both a policy $\\pi(a|s;\\theta)$ and a state-value function $v(s;w)$ simultaneously. The policy is referred to as the actor that suggests actions given a state. The estimated value function is referred to as the critic. It evaluates actions taken by the actor based on the given policy. In this exercise, both functions are approximated by feedforward neural networks. \n",
        "\n",
        "- The policy network is parametrized by $\\theta$ - it takes a state $s$ as input and outputs the probabilities $\\pi(a|s;\\theta)\\ \\forall\\ a$\n",
        "- The value network is parametrized by $w$ - it takes a state $s$ as input and outputs a scalar value associated with the state, i.e., $v(s;w)$\n",
        "- The single step TD error can be defined as follows:\n",
        "$$\\delta_t  = R_{t+1} + \\gamma v(s_{t+1};w) - v(s_t;w)$$\n",
        "- The loss function to be minimized at every step ($L_{tot}^{(t)}$) is a summation of two terms, as follows:\n",
        "$$L_{tot}^{(t)} = L_{actor}^{(t)} + L_{critic}^{(t)}$$\n",
        "where,\n",
        "$$L_{actor}^{(t)} = -\\log\\pi(a_t|s_t; \\theta)\\delta_t$$\n",
        "$$L_{critic}^{(t)} = \\delta_t^2$$\n",
        "- **NOTE: Here, weights of the first two hidden layers are shared by the policy and the value network**\n",
        "    - First two hidden layer sizes: [1024, 512]\n",
        "    - Output size of policy network: 2 (Softmax activation)\n",
        "    - Output size of value network: 1 (Linear activation)\n",
        "\n",
        "<!-- $$\\pi(a|s;\\theta) = \\phi_{\\theta}(a,s)$$ -->"
      ],
      "metadata": {
        "id": "w9WWiiNxhM7x"
      }
    },
    {
      "cell_type": "markdown",
      "source": [
        "### Initializing Actor-Critic Network"
      ],
      "metadata": {
        "id": "1eU3_IeYwN3H"
      }
    },
    {
      "cell_type": "code",
      "source": [
        "class ActorCriticModel(tf.keras.Model):\n",
        "    \"\"\"\n",
        "    Defining policy and value networkss\n",
        "    \"\"\"\n",
        "    def __init__(self, action_size, n_hidden1=1024, n_hidden2=512):\n",
        "        super(ActorCriticModel, self).__init__()\n",
        "\n",
        "        #Hidden Layer 1\n",
        "        self.fc1 = tf.keras.layers.Dense(n_hidden1, activation='relu')\n",
        "        #Hidden Layer 2\n",
        "        self.fc2 = tf.keras.layers.Dense(n_hidden2, activation='relu')\n",
        "        \n",
        "        #Output Layer for policy\n",
        "        self.pi_out = tf.keras.layers.Dense(action_size, activation='softmax')\n",
        "        #Output Layer for state-value\n",
        "        self.v_out = tf.keras.layers.Dense(1)\n",
        "\n",
        "    def call(self, state):\n",
        "        \"\"\"\n",
        "        Computes policy distribution and state-value for a given state\n",
        "        \"\"\"\n",
        "        layer1 = self.fc1(state)\n",
        "        layer2 = self.fc2(layer1)\n",
        "\n",
        "        pi = self.pi_out(layer2)\n",
        "        v = self.v_out(layer2)\n",
        "\n",
        "        return pi, v"
      ],
      "metadata": {
        "id": "MXFHQcJjVKYu"
      },
      "execution_count": 12,
      "outputs": []
    },
    {
      "cell_type": "markdown",
      "source": [
        "### Agent Class\n",
        "###**Task 2a:** Write code to compute $\\delta_t$ inside the Agent.learn() function\n",
        "\n"
      ],
      "metadata": {
        "id": "40uV1hrewVnA"
      }
    },
    {
      "cell_type": "code",
      "source": [
        "class Agent:\n",
        "    \"\"\"\n",
        "    Agent class\n",
        "    \"\"\"\n",
        "    def __init__(self, action_size, lr=0.001, gamma=0.99, seed = 85):\n",
        "        self.gamma = gamma\n",
        "        self.ac_model = ActorCriticModel(action_size=action_size)\n",
        "        self.ac_model.compile(tf.keras.optimizers.Adam(learning_rate=lr))\n",
        "        np.random.seed(seed)\n",
        "    \n",
        "    def sample_action(self, state):\n",
        "        \"\"\"\n",
        "        Given a state, compute the policy distribution over all actions and sample one action\n",
        "        \"\"\"\n",
        "        pi,_ = self.ac_model(state)\n",
        "\n",
        "        action_probabilities = tfp.distributions.Categorical(probs=pi)\n",
        "        sample = action_probabilities.sample()\n",
        "\n",
        "        return int(sample.numpy()[0])\n",
        "\n",
        "    def actor_loss(self, action, pi, delta):\n",
        "        \"\"\"\n",
        "        Compute Actor Loss\n",
        "        \"\"\"\n",
        "        return -tf.math.log(pi[0,action]) * delta\n",
        "\n",
        "    def critic_loss(self,delta):\n",
        "        \"\"\"\n",
        "        Critic loss aims to minimize TD error\n",
        "        \"\"\"\n",
        "        return delta**2\n",
        "\n",
        "    @tf.function\n",
        "    def learn(self, state, action, reward, next_state, done):\n",
        "        \"\"\"\n",
        "        For a given transition (s,a,s',r) update the paramters by computing the\n",
        "        gradient of the total loss\n",
        "        \"\"\"\n",
        "        with tf.GradientTape(persistent=True) as tape:\n",
        "            pi, V_s = self.ac_model(state)\n",
        "            _, V_s_next = self.ac_model(next_state)\n",
        "\n",
        "            V_s_next = tf.stop_gradient(V_s_next)\n",
        "            \n",
        "            V_s = tf.squeeze(V_s)\n",
        "            V_s_next = tf.squeeze(V_s_next)\n",
        "            \n",
        "\n",
        "            #### TO DO: Write the equation for delta (TD error)\n",
        "            ## Write code below\n",
        "            delta = reward + (self.gamma * V_s_next * (1 - done)) - V_s\n",
        "\n",
        "            loss_a = self.actor_loss(action, pi, delta)\n",
        "            loss_c =self.critic_loss(delta)\n",
        "            loss_total = loss_a + loss_c\n",
        "\n",
        "        gradient = tape.gradient(loss_total, self.ac_model.trainable_variables)\n",
        "        self.ac_model.optimizer.apply_gradients(zip(gradient, self.ac_model.trainable_variables))"
      ],
      "metadata": {
        "id": "9RNpp9WMfkTE"
      },
      "execution_count": 13,
      "outputs": []
    },
    {
      "cell_type": "markdown",
      "source": [
        "### Train the Network"
      ],
      "metadata": {
        "id": "bUJwznIzwBIX"
      }
    },
    {
      "cell_type": "code",
      "source": [
        "env = gym.make('CartPole-v0')\n",
        "\n",
        "#Initializing Agent\n",
        "agent = Agent(lr=1e-4, action_size=env.action_space.n)\n",
        "#Number of episodes\n",
        "episodes = 1000\n",
        "tf.compat.v1.reset_default_graph()\n",
        "\n",
        "reward_list = []\n",
        "average_reward_list = []\n",
        "begin_time = datetime.datetime.now()\n",
        "\n",
        "for ep in range(1, episodes + 1):\n",
        "    state = env.reset().reshape(1,-1)\n",
        "    done = False\n",
        "    ep_rew = 0\n",
        "    while not done:\n",
        "        action = agent.sample_action(state) ##Sample Action\n",
        "        next_state, reward, done, info = env.step(action) ##Take action\n",
        "        next_state = next_state.reshape(1,-1)\n",
        "        ep_rew += reward  ##Updating episode reward\n",
        "        agent.learn(state, action, reward, next_state, done) ##Update Parameters\n",
        "        state = next_state ##Updating State\n",
        "    reward_list.append(ep_rew)\n",
        "\n",
        "    if ep % 10 == 0:\n",
        "        avg_rew = np.mean(reward_list[-10:])\n",
        "        print('Episode ', ep, 'Reward %f' % ep_rew, 'Average Reward %f' % avg_rew)\n",
        "\n",
        "    if ep % 100:\n",
        "        avg_100 =  np.mean(reward_list[-100:])\n",
        "        if avg_100 > 195.0:\n",
        "            print('Stopped at Episode ',ep-100)\n",
        "            break\n",
        "\n",
        "time_taken = datetime.datetime.now() - begin_time\n",
        "print(time_taken)"
      ],
      "metadata": {
        "colab": {
          "base_uri": "https://localhost:8080/"
        },
        "id": "Q0SB0o_OfyGN",
        "outputId": "55f341ce-0d80-46e4-f2e7-9ee7115b2078"
      },
      "execution_count": 14,
      "outputs": [
        {
          "output_type": "stream",
          "name": "stdout",
          "text": [
            "Episode  10 Reward 10.000000 Average Reward 19.200000\n",
            "Episode  20 Reward 15.000000 Average Reward 13.100000\n",
            "Episode  30 Reward 13.000000 Average Reward 11.400000\n",
            "Episode  40 Reward 9.000000 Average Reward 11.300000\n",
            "Episode  50 Reward 12.000000 Average Reward 10.300000\n",
            "Episode  60 Reward 14.000000 Average Reward 12.800000\n",
            "Episode  70 Reward 14.000000 Average Reward 10.900000\n",
            "Episode  80 Reward 11.000000 Average Reward 10.400000\n",
            "Episode  90 Reward 11.000000 Average Reward 10.600000\n",
            "Episode  100 Reward 10.000000 Average Reward 9.900000\n",
            "Episode  110 Reward 12.000000 Average Reward 11.400000\n",
            "Episode  120 Reward 12.000000 Average Reward 12.800000\n",
            "Episode  130 Reward 10.000000 Average Reward 11.600000\n",
            "Episode  140 Reward 10.000000 Average Reward 11.800000\n",
            "Episode  150 Reward 12.000000 Average Reward 10.500000\n",
            "Episode  160 Reward 13.000000 Average Reward 16.100000\n",
            "Episode  170 Reward 12.000000 Average Reward 16.700000\n",
            "Episode  180 Reward 18.000000 Average Reward 10.800000\n",
            "Episode  190 Reward 11.000000 Average Reward 11.700000\n",
            "Episode  200 Reward 23.000000 Average Reward 13.600000\n",
            "Episode  210 Reward 13.000000 Average Reward 15.900000\n",
            "Episode  220 Reward 9.000000 Average Reward 16.400000\n",
            "Episode  230 Reward 14.000000 Average Reward 16.500000\n",
            "Episode  240 Reward 11.000000 Average Reward 21.200000\n",
            "Episode  250 Reward 16.000000 Average Reward 18.900000\n",
            "Episode  260 Reward 20.000000 Average Reward 29.600000\n",
            "Episode  270 Reward 66.000000 Average Reward 39.100000\n",
            "Episode  280 Reward 34.000000 Average Reward 35.000000\n",
            "Episode  290 Reward 18.000000 Average Reward 32.700000\n",
            "Episode  300 Reward 68.000000 Average Reward 55.900000\n",
            "Episode  310 Reward 61.000000 Average Reward 41.000000\n",
            "Episode  320 Reward 61.000000 Average Reward 59.200000\n",
            "Episode  330 Reward 73.000000 Average Reward 61.900000\n",
            "Episode  340 Reward 26.000000 Average Reward 42.000000\n",
            "Episode  350 Reward 41.000000 Average Reward 74.100000\n",
            "Episode  360 Reward 200.000000 Average Reward 87.500000\n",
            "Episode  370 Reward 126.000000 Average Reward 44.200000\n",
            "Episode  380 Reward 11.000000 Average Reward 75.100000\n",
            "Episode  390 Reward 43.000000 Average Reward 35.900000\n",
            "Episode  400 Reward 31.000000 Average Reward 72.700000\n",
            "Episode  410 Reward 200.000000 Average Reward 131.300000\n",
            "Episode  420 Reward 52.000000 Average Reward 73.800000\n",
            "Episode  430 Reward 183.000000 Average Reward 123.600000\n",
            "Episode  440 Reward 25.000000 Average Reward 98.800000\n",
            "Episode  450 Reward 171.000000 Average Reward 154.800000\n",
            "Episode  460 Reward 200.000000 Average Reward 136.500000\n",
            "Episode  470 Reward 200.000000 Average Reward 173.100000\n",
            "Episode  480 Reward 150.000000 Average Reward 103.500000\n",
            "Episode  490 Reward 33.000000 Average Reward 131.300000\n",
            "Episode  500 Reward 200.000000 Average Reward 127.000000\n",
            "Episode  510 Reward 129.000000 Average Reward 173.300000\n",
            "Episode  520 Reward 110.000000 Average Reward 114.700000\n",
            "Episode  530 Reward 135.000000 Average Reward 146.100000\n",
            "Episode  540 Reward 132.000000 Average Reward 145.400000\n",
            "Episode  550 Reward 147.000000 Average Reward 143.300000\n",
            "Episode  560 Reward 180.000000 Average Reward 164.900000\n",
            "Episode  570 Reward 200.000000 Average Reward 164.800000\n",
            "Episode  580 Reward 134.000000 Average Reward 136.000000\n",
            "Episode  590 Reward 18.000000 Average Reward 160.200000\n",
            "Episode  600 Reward 132.000000 Average Reward 139.300000\n",
            "Episode  610 Reward 131.000000 Average Reward 160.000000\n",
            "Episode  620 Reward 197.000000 Average Reward 159.500000\n",
            "Episode  630 Reward 182.000000 Average Reward 136.100000\n",
            "Episode  640 Reward 200.000000 Average Reward 140.800000\n",
            "Episode  650 Reward 142.000000 Average Reward 150.500000\n",
            "Episode  660 Reward 117.000000 Average Reward 132.800000\n",
            "Episode  670 Reward 97.000000 Average Reward 107.900000\n",
            "Episode  680 Reward 153.000000 Average Reward 126.700000\n",
            "Episode  690 Reward 200.000000 Average Reward 157.700000\n",
            "Episode  700 Reward 200.000000 Average Reward 151.700000\n",
            "Episode  710 Reward 26.000000 Average Reward 155.400000\n",
            "Episode  720 Reward 76.000000 Average Reward 72.800000\n",
            "Episode  730 Reward 66.000000 Average Reward 74.300000\n",
            "Episode  740 Reward 60.000000 Average Reward 59.100000\n",
            "Episode  750 Reward 140.000000 Average Reward 84.400000\n",
            "Episode  760 Reward 188.000000 Average Reward 93.800000\n",
            "Episode  770 Reward 18.000000 Average Reward 129.600000\n",
            "Episode  780 Reward 149.000000 Average Reward 145.400000\n",
            "Episode  790 Reward 126.000000 Average Reward 178.400000\n",
            "Episode  800 Reward 171.000000 Average Reward 174.400000\n",
            "Episode  810 Reward 200.000000 Average Reward 139.400000\n",
            "Episode  820 Reward 200.000000 Average Reward 195.600000\n",
            "Episode  830 Reward 200.000000 Average Reward 200.000000\n",
            "Episode  840 Reward 200.000000 Average Reward 175.600000\n",
            "Episode  850 Reward 200.000000 Average Reward 200.000000\n",
            "Episode  860 Reward 200.000000 Average Reward 199.400000\n",
            "Episode  870 Reward 200.000000 Average Reward 200.000000\n",
            "Episode  880 Reward 200.000000 Average Reward 200.000000\n",
            "Episode  890 Reward 200.000000 Average Reward 200.000000\n",
            "Episode  900 Reward 200.000000 Average Reward 200.000000\n",
            "Stopped at Episode  806\n",
            "0:09:34.114683\n"
          ]
        }
      ]
    },
    {
      "cell_type": "markdown",
      "source": [
        "### **Task 2b**: Plot total reward curve\n",
        "In the cell below, write code to plot the total reward averaged over 100 episodes (moving average)"
      ],
      "metadata": {
        "id": "twYwsX7Hu1V1"
      }
    },
    {
      "cell_type": "code",
      "source": [
        "avg_reward_list = []\n",
        "for i in range(len(reward_list) - 99):\n",
        "  avg_reward_list.append(np.mean(reward_list[i:i + 100])) "
      ],
      "metadata": {
        "id": "X00M6WekZTJL"
      },
      "execution_count": 19,
      "outputs": []
    },
    {
      "cell_type": "code",
      "source": [
        "### Plot of total reward vs episode\n",
        "## Write Code Below\n",
        "\n",
        "plt.plot(avg_reward_list)\n",
        "plt.xlabel('Episodes')\n",
        "plt.ylabel('Total Reward')\n",
        "plt.title('Running average of previous 100 rewards')\n"
      ],
      "metadata": {
        "colab": {
          "base_uri": "https://localhost:8080/",
          "height": 312
        },
        "id": "wOZzkLIgvHgS",
        "outputId": "2a432c92-16de-4fa4-b3c8-cf45d8dd854d"
      },
      "execution_count": 20,
      "outputs": [
        {
          "output_type": "execute_result",
          "data": {
            "text/plain": [
              "Text(0.5, 1.0, 'Running average of previous 100 rewards')"
            ]
          },
          "metadata": {},
          "execution_count": 20
        },
        {
          "output_type": "display_data",
          "data": {
            "image/png": "[encoded data removed]",
            "text/plain": [
              "<Figure size 432x288 with 1 Axes>"
            ]
          },
          "metadata": {
            "needs_background": "light"
          }
        }
      ]
    },
    {
      "cell_type": "markdown",
      "source": [
        "### Code for rendering ([source](https://colab.research.google.com/drive/1D6bvoEVukil7DUaJU465vtfuDgLDbOY7#scrollTo=qbIMMkfmRHyC))"
      ],
      "metadata": {
        "id": "UjC1dxbuuNL2"
      }
    },
    {
      "cell_type": "code",
      "source": [
        "# Render an episode and save as a GIF file\n",
        "\n",
        "display = Display(visible=0, size=(400, 300))\n",
        "display.start()\n",
        "\n",
        "\n",
        "def render_episode(env: gym.Env, model: tf.keras.Model, max_steps: int): \n",
        "  screen = env.render(mode='rgb_array')\n",
        "  im = Image.fromarray(screen)\n",
        "\n",
        "  images = [im]\n",
        "  \n",
        "  state = tf.constant(env.reset(), dtype=tf.float32)\n",
        "  for i in range(1, max_steps + 1):\n",
        "    state = tf.expand_dims(state, 0)\n",
        "    action_probs, _ = model(state)\n",
        "    action = np.argmax(np.squeeze(action_probs))\n",
        "    state, _, done, _ = env.step(action)\n",
        "    state = tf.constant(state, dtype=tf.float32)\n",
        "\n",
        "    # Render screen every 10 steps\n",
        "    if i % 10 == 0:\n",
        "      screen = env.render(mode='rgb_array')\n",
        "      images.append(Image.fromarray(screen))\n",
        "  \n",
        "    if done:\n",
        "      break\n",
        "  \n",
        "  return images\n",
        "\n",
        "\n",
        "# Save GIF image\n",
        "images = render_episode(env, agent.ac_model, 200)\n",
        "image_file = 'cartpole-v0.gif'\n",
        "# loop=0: loop forever, duration=1: play each frame for 1ms\n",
        "images[0].save(\n",
        "    image_file, save_all=True, append_images=images[1:], loop=0, duration=1)"
      ],
      "metadata": {
        "id": "D2cisMBqgg9Y"
      },
      "execution_count": 21,
      "outputs": []
    },
    {
      "cell_type": "code",
      "source": [
        "import tensorflow_docs.vis.embed as embed\n",
        "embed.embed_file(image_file)"
      ],
      "metadata": {
        "colab": {
          "base_uri": "https://localhost:8080/",
          "height": 422
        },
        "id": "2BT7j10-9zms",
        "outputId": "591663d4-d400-486a-ff96-c45754c51c74"
      },
      "execution_count": 22,
      "outputs": [
        {
          "output_type": "execute_result",
          "data": {
            "text/html": [
              "<img src=\"data:image/gif;base64,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\"/>"
            ],
            "text/plain": [
              "<IPython.core.display.HTML object>"
            ]
          },
          "metadata": {},
          "execution_count": 22
        }
      ]
    }
  ]
}