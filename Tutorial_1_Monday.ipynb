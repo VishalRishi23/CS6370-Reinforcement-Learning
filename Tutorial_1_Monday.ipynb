{
  "cells": [
    {
      "cell_type": "markdown",
      "source": [
        "In this tutorial, we will cover how to import and run an environment for RL training using OpenAI Gym. We will also look at how well an RL agent trained on this environment to do a specific task performs, compared to an agent taking random actions in the environment.\n",
        "\n"
      ],
      "metadata": {
        "id": "MaqQyaO64c4p"
      },
      "id": "MaqQyaO64c4p"
    },
    {
      "cell_type": "code",
      "source": [
        "#Installing packages for rendering the game on Colab\n",
        "!pip install gym pyvirtualdisplay > /dev/null 2>&1\n",
        "!apt-get install -y xvfb python-opengl ffmpeg > /dev/null 2>&1\n",
        "!apt-get update > /dev/null 2>&1\n",
        "!apt-get install cmake > /dev/null 2>&1\n",
        "!pip install --upgrade setuptools 2>&1\n",
        "!pip install ez_setup > /dev/null 2>&1\n",
        "!pip install gym[atari] > /dev/null 2>&1"
      ],
      "metadata": {
        "id": "qUmJWFY9qypV",
        "colab": {
          "base_uri": "https://localhost:8080/"
        },
        "outputId": "08b39434-9fc7-4095-ac00-347d9d4a3603"
      },
      "id": "qUmJWFY9qypV",
      "execution_count": null,
      "outputs": [
        {
          "output_type": "stream",
          "name": "stdout",
          "text": [
            "Requirement already satisfied: setuptools in /usr/local/lib/python3.7/dist-packages (60.6.0)\n"
          ]
        }
      ]
    },
    {
      "cell_type": "code",
      "source": [
        "import numpy as np\n",
        "import random\n",
        "import torch\n",
        "import torch.nn as nn  \n",
        "import torch.nn.functional as F\n",
        "from collections import namedtuple, deque\n",
        "import torch.optim as optim\n",
        "import datetime\n",
        "import gym\n",
        "from gym.wrappers import Monitor\n",
        "import glob\n",
        "import io\n",
        "import base64\n",
        "import matplotlib.pyplot as plt\n",
        "from IPython.display import HTML\n",
        "from pyvirtualdisplay import Display\n",
        "from IPython import display as ipythondisplay"
      ],
      "metadata": {
        "id": "zu1cshEw7hKu"
      },
      "id": "zu1cshEw7hKu",
      "execution_count": null,
      "outputs": []
    },
    {
      "cell_type": "markdown",
      "source": [
        "# **Setting up the environment**"
      ],
      "metadata": {
        "id": "wgxkZn9t5OaU"
      },
      "id": "wgxkZn9t5OaU"
    },
    {
      "cell_type": "markdown",
      "source": [
        "Any new RL algorithm that is developed will need to be benchmarked and compared against state-of-the-art RL algorithms. A variety of benchmarks exist for various types of tasks and various specific domains eg. robot locomotion. \n",
        "\n",
        "While the final aim is to run such algorithms in the real world eg. controlling a quadruped robot to jump over obstacles, for practicality and reduced costs during development, it is more convenient to use benchmarks that allow virtual simulations of these real-world tasks. A few examples of these are MuJoCo (Multi-Joint dynamics with Contact), StarCraft2 and Atari.\n",
        "\n",
        "OpenAI Gym aims to provide an easy-to-setup general-intelligence benchmark with a wide variety of different environments. The goal is to standardize how environments are defined in AI research publications so that published research becomes more easily reproducible. "
      ],
      "metadata": {
        "id": "HlD6Nivn6I4c"
      },
      "id": "HlD6Nivn6I4c"
    },
    {
      "cell_type": "markdown",
      "source": [
        "**Import OpenAI gym**"
      ],
      "metadata": {
        "id": "_DtMh6tl5Yni"
      },
      "id": "_DtMh6tl5Yni"
    },
    {
      "cell_type": "code",
      "execution_count": null,
      "id": "213553cd",
      "metadata": {
        "id": "213553cd"
      },
      "outputs": [],
      "source": [
        "import gym"
      ]
    },
    {
      "cell_type": "markdown",
      "source": [
        "![rl.png](data:image/png;base64,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)\n",
        "\n"
      ],
      "metadata": {
        "id": "kryDSmG77kk4"
      },
      "id": "kryDSmG77kk4"
    },
    {
      "cell_type": "markdown",
      "source": [
        "Consider an RL agent that interacts with its environment in discrete timesteps. For every discrete time step, the agent perceives the state **s<sub>t</sub>** of its environment and chooses an action **a<sub>t</sub>** according to its **policy**. The agent then receives a reward **r<sub>t+1</sub>** for its action and the environment transitioned into the next state **s<sub>t+1</sub>**. We now show how to set up such an environment using OpenAI gym\n",
        "\n",
        "Some helpful terminology:\n",
        "* **Episode** - A collection of steps that terminates when the agent fails to achieve the goal, or the episode reaches the maximum number of allowed steps.\n",
        "* **Render** - Gym can render one frame for display after each episode.\n",
        "* **Nondeterministic** - For some environments, randomness is a factor in deciding what effects actions have on reward and changes to the observation space."
      ],
      "metadata": {
        "id": "mwpIjXIZAOhL"
      },
      "id": "mwpIjXIZAOhL"
    },
    {
      "cell_type": "code",
      "source": [
        "env = gym.make('CartPole-v1')"
      ],
      "metadata": {
        "id": "QLtauTHkBhYb"
      },
      "id": "QLtauTHkBhYb",
      "execution_count": null,
      "outputs": []
    },
    {
      "cell_type": "markdown",
      "source": [
        "We just created an instance of the CartPole-v1 environment. \n",
        "\n",
        "A pole is attached by an un-actuated joint to a cart, which moves along a frictionless track. The system is controlled by applying a force of +1 or -1 to the cart. The pendulum starts upright, and the goal is to prevent it from falling over. A reward of +1 is provided for every timestep that the pole remains upright. The episode ends when the pole is more than 15 degrees from vertical, or the cart moves more than 2.4 units from the center.\n",
        "\n",
        "\n",
        "Now let's take a deeper look at some of the environment specifics:\n",
        "* **action space**: What actions can we take on the environment, at each step/episode, to alter the environment.\n",
        "* **observation space**: What is the current state of the portion of the environment that we can observe.\n"
      ],
      "metadata": {
        "id": "-o4AVRvGBiod"
      },
      "id": "-o4AVRvGBiod"
    },
    {
      "cell_type": "code",
      "source": [
        "def query_environment(env, name):\n",
        "  spec = gym.spec(name)\n",
        "  print(f\"Action Space: {env.action_space}\")\n",
        "  print(f\"Observation Space: {env.observation_space}\")\n",
        "  print(f\"Max Episode Steps: {spec.max_episode_steps}\")\n",
        "  print(f\"Nondeterministic: {spec.nondeterministic}\")\n",
        "  print(f\"Reward Range: {env.reward_range}\")"
      ],
      "metadata": {
        "id": "_u_3pJGqCb9e"
      },
      "id": "_u_3pJGqCb9e",
      "execution_count": null,
      "outputs": []
    },
    {
      "cell_type": "code",
      "source": [
        "query_environment(env, 'CartPole-v1')"
      ],
      "metadata": {
        "id": "RmT3G-SIChK3",
        "colab": {
          "base_uri": "https://localhost:8080/"
        },
        "outputId": "8d20d49b-a5fd-4a95-d3bd-8a9d10ce2f62"
      },
      "id": "RmT3G-SIChK3",
      "execution_count": null,
      "outputs": [
        {
          "output_type": "stream",
          "name": "stdout",
          "text": [
            "Action Space: Discrete(2)\n",
            "Observation Space: Box(-3.4028234663852886e+38, 3.4028234663852886e+38, (4,), float32)\n",
            "Max Episode Steps: 500\n",
            "Nondeterministic: False\n",
            "Reward Range: (-inf, inf)\n"
          ]
        }
      ]
    },
    {
      "cell_type": "markdown",
      "source": [
        " The environment has an observation space of 4 continuous numbers:\n",
        "\n",
        "* Cart Position\n",
        "* Cart Velocity\n",
        "* Pole Angle\n",
        "* Pole Velocity At Tip\n",
        "\n",
        "To achieve this goal, the agent can take the following actions:\n",
        "\n",
        "* Push cart to the left\n",
        "* Push cart to the right\n"
      ],
      "metadata": {
        "id": "9I8uiHsAESy7"
      },
      "id": "9I8uiHsAESy7"
    },
    {
      "cell_type": "markdown",
      "source": [
        "# **Interacting with the environment**"
      ],
      "metadata": {
        "id": "YzCMPGXmFmvy"
      },
      "id": "YzCMPGXmFmvy"
    },
    {
      "cell_type": "markdown",
      "source": [
        "To make things clearer, let us now see how the agent can interact with the environment:"
      ],
      "metadata": {
        "id": "hL77-vqgFrQx"
      },
      "id": "hL77-vqgFrQx"
    },
    {
      "cell_type": "markdown",
      "source": [
        "**Getting the observation**\n",
        "\n",
        "(Every episode of training starts with env.reset(), to reset the simulation to the starting state or states)"
      ],
      "metadata": {
        "id": "a1TzPnj3Eu1i"
      },
      "id": "a1TzPnj3Eu1i"
    },
    {
      "cell_type": "code",
      "source": [
        "observation = env.reset()\n",
        "print(\"Observation:\", observation)"
      ],
      "metadata": {
        "id": "if-9-u39Eu9v",
        "colab": {
          "base_uri": "https://localhost:8080/"
        },
        "outputId": "f3161fae-44cb-4cdb-a16b-eef5584abccd"
      },
      "id": "if-9-u39Eu9v",
      "execution_count": null,
      "outputs": [
        {
          "output_type": "stream",
          "name": "stdout",
          "text": [
            "Observation: [-0.01436883  0.00595485 -0.00164396  0.04655107]\n"
          ]
        }
      ]
    },
    {
      "cell_type": "markdown",
      "source": [
        "**Choosing an action**"
      ],
      "metadata": {
        "id": "GqCkMVE-E2a5"
      },
      "id": "GqCkMVE-E2a5"
    },
    {
      "cell_type": "code",
      "source": [
        "action = env.action_space.sample()\n",
        "print(\"Action chosen:\",action)"
      ],
      "metadata": {
        "id": "xE5sKXohE3iV",
        "colab": {
          "base_uri": "https://localhost:8080/"
        },
        "outputId": "afb0acdd-402a-4e91-a9a1-78c2fae30b65"
      },
      "id": "xE5sKXohE3iV",
      "execution_count": null,
      "outputs": [
        {
          "output_type": "stream",
          "name": "stdout",
          "text": [
            "Action chosen: 0\n"
          ]
        }
      ]
    },
    {
      "cell_type": "markdown",
      "source": [
        "**Performing an environment step**"
      ],
      "metadata": {
        "id": "Qi_dW1M7E3re"
      },
      "id": "Qi_dW1M7E3re"
    },
    {
      "cell_type": "code",
      "source": [
        "next_observation, reward, done, _ = env.step(action) \n",
        "print(\"Next observation\", next_observation)\n",
        "print(\"Reward obtained\", reward)\n",
        "print(\"Does the state-action pair lead to a terminal state?\", done)"
      ],
      "metadata": {
        "id": "K9iI68gyE69y",
        "colab": {
          "base_uri": "https://localhost:8080/"
        },
        "outputId": "4520d84a-dcbc-4954-e068-99bbc936f051"
      },
      "id": "K9iI68gyE69y",
      "execution_count": null,
      "outputs": [
        {
          "output_type": "stream",
          "name": "stdout",
          "text": [
            "Next observation [-0.01424973 -0.18914349 -0.00071293  0.33871486]\n",
            "Reward obtained 1.0\n",
            "Does the state-action pair lead to a terminal state? False\n"
          ]
        }
      ]
    },
    {
      "cell_type": "markdown",
      "source": [
        "**A few functions for rendering an episode on Google Colab and plotting rewards**"
      ],
      "metadata": {
        "id": "M4_e4XUrGyGj"
      },
      "id": "M4_e4XUrGyGj"
    },
    {
      "cell_type": "code",
      "source": [
        "\n",
        "display = Display(visible=0, size=(1400, 900))\n",
        "display.start()\n",
        "\n",
        "\"\"\"\n",
        "Utility functions to enable video recording of gym environment \n",
        "and displaying it.\n",
        "To enable video, just do \"env = wrap_env(env)\"\"\n",
        "\"\"\"\n",
        "\n",
        "def show_video():\n",
        "  mp4list = glob.glob('video/*.mp4')\n",
        "  if len(mp4list) > 0:\n",
        "    mp4 = mp4list[0]\n",
        "    video = io.open(mp4, 'r+b').read()\n",
        "    encoded = base64.b64encode(video)\n",
        "    ipythondisplay.display(HTML(data='''<video alt=\"test\" autoplay \n",
        "                loop controls style=\"height: 400px;\">\n",
        "                <source src=\"data:video/mp4;base64,{0}\" type=\"video/mp4\" />\n",
        "             </video>'''.format(encoded.decode('ascii'))))\n",
        "  else: \n",
        "    print(\"Could not find video\")\n",
        "    \n",
        "def wrap_env(env):\n",
        "  env = Monitor(env, './video', force=True)\n",
        "  return env\n",
        "\n",
        "def plot_rewards(rewards, q, title):\n",
        "\n",
        "    avg_rew = []\n",
        "    j = 0\n",
        "    \n",
        "    while(j < len(rewards) - q):\n",
        "      \n",
        "      x = rewards[j:j+q]\n",
        "      sum1 = np.sum(np.array(x)) /q\n",
        "      avg_rew.append(sum1)\n",
        "      j = j+1\n",
        "\n",
        "\n",
        "    plt.suptitle(title)\n",
        "    plt.plot(avg_rew)\n",
        "    plt.xlabel('Episode')\n",
        "    plt.ylabel('Reward')\n",
        "\n",
        "    plt.show()  "
      ],
      "metadata": {
        "id": "1P-g1WjUG1XN"
      },
      "id": "1P-g1WjUG1XN",
      "execution_count": null,
      "outputs": []
    },
    {
      "cell_type": "markdown",
      "source": [
        "**Task 1: Putting it all together - Episodes with a random agent**\n",
        "\n"
      ],
      "metadata": {
        "id": "FMzWrnx-E7q6"
      },
      "id": "FMzWrnx-E7q6"
    },
    {
      "cell_type": "markdown",
      "source": [
        "**Part 1**: Your task will be to run an episode of simulation with an agent following a random policy. After every 10 steps of the episode, **you are to print the step reward r as well as the cumulative reward from the beginning of the episode**. Complete the code and run the function to render the episode. The function returns the cumulative reward."
      ],
      "metadata": {
        "id": "lxMzQlghx4mY"
      },
      "id": "lxMzQlghx4mY"
    },
    {
      "cell_type": "code",
      "source": [
        "def simulate_episode(env, wrap = False, render = False, video = False, log = False): #if log==True, print the step reward and cumulative reward\n",
        "    \n",
        "    if(wrap):\n",
        "      env = wrap_env(env) #This is purely for rendering\n",
        "    \n",
        "    observation = env.reset() #initial observation\n",
        "    cumulative_reward = 0\n",
        "\n",
        "    while True:\n",
        "\n",
        "        #Rendering function  \n",
        "        if(render):\n",
        "          env.render()\n",
        "        \n",
        "        #take an action, take a step and continue the episode if the next state is not terminal. Print required data every 10 steps\n",
        "        action = env.action_space.sample()\n",
        "        next_observation, reward, done, _ = env.step(action) \n",
        "        if done:\n",
        "          break\n",
        "        cumulative_reward += reward\n",
        "        if log:\n",
        "          if not cumulative_reward%10 and not done:\n",
        "            print('Step reward: ', reward)\n",
        "            print('Cumulative reward: ', cumulative_reward) \n",
        "\n",
        "    env.close()\n",
        "    if(video):\n",
        "      show_video()\n",
        "    return cumulative_reward  "
      ],
      "metadata": {
        "id": "9Gu80n-rE-8C"
      },
      "id": "9Gu80n-rE-8C",
      "execution_count": null,
      "outputs": []
    },
    {
      "cell_type": "code",
      "source": [
        "total_rew = simulate_episode(env, wrap = True, render = True, video = True, log = True)\n",
        "print(\"Cumulative reward on episode termination\", total_rew)"
      ],
      "metadata": {
        "id": "NuW7-rLubiH-",
        "colab": {
          "base_uri": "https://localhost:8080/",
          "height": 528
        },
        "outputId": "16995096-14c8-43ec-d2d6-732946c5edf7"
      },
      "id": "NuW7-rLubiH-",
      "execution_count": null,
      "outputs": [
        {
          "output_type": "stream",
          "name": "stdout",
          "text": [
            "Step reward:  1.0\n",
            "Cumulative reward:  10.0\n",
            "Step reward:  1.0\n",
            "Cumulative reward:  20.0\n"
          ]
        },
        {
          "output_type": "display_data",
          "data": {
            "text/html": [
              "<video alt=\"test\" autoplay \n",
              "                loop controls style=\"height: 400px;\">\n",
              "                <source src=\"data:video/mp4;base64,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\" type=\"video/mp4\" />\n",
              "             </video>"
            ],
            "text/plain": [
              "<IPython.core.display.HTML object>"
            ]
          },
          "metadata": {}
        },
        {
          "output_type": "stream",
          "name": "stdout",
          "text": [
            "Cumulative reward on episode termination 24.0\n"
          ]
        }
      ]
    },
    {
      "cell_type": "markdown",
      "source": [
        "**Part 2**: Using the function you just wrote, run a loop to simulate 1000 episodes of training and plot the cumulative reward vs episodes graph"
      ],
      "metadata": {
        "id": "kIm6SfOxIpvq"
      },
      "id": "kIm6SfOxIpvq"
    },
    {
      "cell_type": "code",
      "source": [
        "rewards = []\n",
        "ep = 0\n",
        "while (ep < 1000):\n",
        "   total_rew = simulate_episode(env, wrap = False, render = False, video = False, log = False)\n",
        "   rewards.append(total_rew)\n",
        "   ep += 1\n",
        "env.close()"
      ],
      "metadata": {
        "id": "HW4Csz73IvIb"
      },
      "id": "HW4Csz73IvIb",
      "execution_count": null,
      "outputs": []
    },
    {
      "cell_type": "code",
      "source": [
        "plt.figure(figsize=(10, 5))\n",
        "plot_rewards(rewards, 1, \"Random Agent\")"
      ],
      "metadata": {
        "id": "IoFS6sSGLLMP",
        "colab": {
          "base_uri": "https://localhost:8080/",
          "height": 330
        },
        "outputId": "1a0d5cbd-c6a8-41fb-a49b-1167f6e5af48"
      },
      "id": "IoFS6sSGLLMP",
      "execution_count": null,
      "outputs": [
        {
          "output_type": "display_data",
          "data": {
            "image/png": "[encoded data removed]",
            "text/plain": [
              "<Figure size 720x360 with 1 Axes>"
            ]
          },
          "metadata": {
            "needs_background": "light"
          }
        }
      ]
    },
    {
      "cell_type": "markdown",
      "source": [
        "# **Deep RL Agent**"
      ],
      "metadata": {
        "id": "CmTfec97NO5l"
      },
      "id": "CmTfec97NO5l"
    },
    {
      "cell_type": "markdown",
      "source": [
        "Now that we know how to import an environment and use it, let us see how a deep RL agent trained on this task performs.\n",
        "\n",
        "Specifically, we use a Deep Q Network (DQN) to train our CartPole agent to navigate towards its goal. Broadly speaking, every RL algorithm performs an agent in two stages performed repeatedly till the task is performed optimally:\n",
        "\n",
        "\n",
        "\n",
        "1.   Collect episodes of data by interacting with the environment.\n",
        "2.   Learn to perform the task better, using the collected data.\n",
        "\n",
        "\n",
        "\n",
        "We do not get into further specifics of training the agent yet. This will covered in detail in future tutorials\n"
      ],
      "metadata": {
        "id": "Of5IWSAoHOiQ"
      },
      "id": "Of5IWSAoHOiQ"
    },
    {
      "cell_type": "markdown",
      "source": [
        "**How well does the DQN agent perform on the same task?**"
      ],
      "metadata": {
        "id": "LZQeH0ZcDG-6"
      },
      "id": "LZQeH0ZcDG-6"
    },
    {
      "cell_type": "code",
      "source": [
        "BUFFER_SIZE = int(1e6)  # replay buffer size\n",
        "BATCH_SIZE = 64         # minibatch size\n",
        "GAMMA = 0.99            # discount factor\n",
        "LR = 5e-4             # learning rate \n",
        "UPDATE_EVERY = 10        # how often to update the network (When Q target is present)\n",
        "device = torch.device(\"cuda:0\" if torch.cuda.is_available() else \"cpu\")"
      ],
      "metadata": {
        "id": "S4_QoylQOoUG"
      },
      "id": "S4_QoylQOoUG",
      "execution_count": null,
      "outputs": []
    },
    {
      "cell_type": "code",
      "source": [
        "### Q NETWORK ARCHITECTURE\n",
        "'''\n",
        "QNetwork:\n",
        "Input Layer - 4 nodes (State Shape) \\\n",
        "Hidden Layer 1 - 64 nodes \\\n",
        "Hidden Layer 2 - 64 nodes \\\n",
        "Output Layer - 2 nodes (Action Space) \\\n",
        "Optimizer - zero_grad()\n",
        "'''\n",
        "class QNetwork(nn.Module):\n",
        "    \"\"\"Actor (Policy) Model.\"\"\"\n",
        "\n",
        "    def __init__(self, state_size, action_size, seed, fc1_units=64, fc2_units=64):\n",
        "        \"\"\"Initialize parameters and build model.\n",
        "        Params\n",
        "        ======\n",
        "            state_size (int): Dimension of each state\n",
        "            action_size (int): Dimension of each action\n",
        "            seed (int): Random seed\n",
        "            fc1_units (int): Number of nodes in first hidden layer\n",
        "            fc2_units (int): Number of nodes in second hidden layer\n",
        "        \"\"\"\n",
        "        super(QNetwork, self).__init__()\n",
        "        self.seed = torch.manual_seed(seed)\n",
        "        self.fc1 = nn.Linear(state_size, fc1_units)\n",
        "        self.fc2 = nn.Linear(fc1_units, fc2_units)\n",
        "        self.fc3 = nn.Linear(fc2_units, action_size)\n",
        "\n",
        "    def forward(self, state):\n",
        "        \"\"\"Build a network that maps state -> action values.\"\"\"\n",
        "        x = F.relu(self.fc1(state))\n",
        "        x = F.relu(self.fc2(x))\n",
        "        return self.fc3(x)"
      ],
      "metadata": {
        "id": "BKRAM4xjS7X5"
      },
      "id": "BKRAM4xjS7X5",
      "execution_count": null,
      "outputs": []
    },
    {
      "cell_type": "code",
      "source": [
        "class Agent():\n",
        "    \"\"\"\n",
        "    CASE 1 -\n",
        "    +Q => Q-Targets\n",
        "    +E => Experience Replay\n",
        "    +T => Truncation\n",
        "    \"\"\"\n",
        "\n",
        "    def __init__(self, state_size, action_size, seed):\n",
        "\n",
        "        # Agent Environment Interaction\n",
        "        self.state_size = state_size\n",
        "        self.action_size = action_size\n",
        "        self.seed = random.seed(seed)\n",
        "\n",
        "        # Q-Network\n",
        "        self.qnetwork_local = QNetwork(state_size, action_size, seed).to(device)\n",
        "        self.qnetwork_target = QNetwork(state_size, action_size, seed).to(device)\n",
        "        self.optimizer = optim.Adam(self.qnetwork_local.parameters(), lr=LR)\n",
        "\n",
        "        # Replay memory\n",
        "        self.memory = ReplayBuffer(action_size, BUFFER_SIZE, BATCH_SIZE, seed)\n",
        "\n",
        "        # Initialize time step (for updating every UPDATE_EVERY steps)           -Needed for Q Targets\n",
        "        self.t_step = 0\n",
        "    \n",
        "    def step(self, state, action, reward, next_state, done):\n",
        "\n",
        "        # Save experience in replay memory\n",
        "        self.memory.add(state, action, reward, next_state, done)\n",
        "        \n",
        "        # If enough samples are available in memory, get random subset and learn\n",
        "        if len(self.memory) >= BATCH_SIZE:\n",
        "            experiences = self.memory.sample()\n",
        "            self.learn(experiences, GAMMA)\n",
        "\n",
        "        \"\"\" +Q TARGETS PRESENT \"\"\"\n",
        "        # Updating the Network every 'UPDATE_EVERY' steps taken       \n",
        "        self.t_step = (self.t_step + 1) % UPDATE_EVERY\n",
        "        if self.t_step == 0:\n",
        "\n",
        "            self.qnetwork_target.load_state_dict(self.qnetwork_local.state_dict())\n",
        "\n",
        "    def act(self, state, eps=0.):\n",
        "\n",
        "        state = torch.from_numpy(state).float().unsqueeze(0).to(device)\n",
        "        self.qnetwork_local.eval()\n",
        "        with torch.no_grad():\n",
        "            action_values = self.qnetwork_local(state)\n",
        "        self.qnetwork_local.train()\n",
        "\n",
        "        # Epsilon-greedy action selection\n",
        "        if random.random() > eps:\n",
        "            return np.argmax(action_values.cpu().data.numpy())\n",
        "        else:\n",
        "            return random.choice(np.arange(self.action_size))\n",
        "\n",
        "\n",
        "    def learn(self, experiences, gamma):\n",
        "        \"\"\" +E EXPERIENCE REPLAY PRESENT \"\"\"\n",
        "        states, actions, rewards, next_states, dones = experiences\n",
        "\n",
        "        # Get max predicted Q values (for next states) from target model\n",
        "        Q_targets_next = self.qnetwork_target(next_states).detach().max(1)[0].unsqueeze(1)\n",
        "        # Compute Q targets for current states \n",
        "        Q_targets = rewards + (gamma * Q_targets_next * (1 - dones))\n",
        "\n",
        "        # Get expected Q values from local model\n",
        "        Q_expected = self.qnetwork_local(states).gather(1, actions)\n",
        "\n",
        "        # Compute loss\n",
        "        \n",
        "\n",
        "        # Minimize the loss\n",
        "        self.optimizer.zero_grad()\n",
        "        loss = F.mse_loss(Q_expected, Q_targets)\n",
        "        loss.backward()\n",
        "        \n",
        "        #Gradient Clipping\n",
        "        \"\"\" +T TRUNCATION PRESENT \"\"\"\n",
        "        # for param in self.qnetwork_local.parameters():\n",
        "        #     param.grad.data.clamp_(-1, 1)\n",
        "            \n",
        "        self.optimizer.step()"
      ],
      "metadata": {
        "id": "zSeYYo6OS79L"
      },
      "id": "zSeYYo6OS79L",
      "execution_count": null,
      "outputs": []
    },
    {
      "cell_type": "code",
      "source": [
        "# REPLAY BUFFER\n",
        "\n",
        "class ReplayBuffer:\n",
        "    \"\"\"Fixed-size buffer to store experience tuples.\"\"\"\n",
        "\n",
        "    def __init__(self, action_size, buffer_size, batch_size, seed):\n",
        "        \"\"\"Initialize a ReplayBuffer object.\n",
        "\n",
        "        Params\n",
        "        ======\n",
        "            action_size (int): dimension of each action\n",
        "            buffer_size (int): maximum size of buffer\n",
        "            batch_size (int): size of each training batch\n",
        "            seed (int): random seed\n",
        "        \"\"\"\n",
        "        self.action_size = action_size\n",
        "        self.memory = deque(maxlen=buffer_size)  \n",
        "        self.batch_size = batch_size\n",
        "        self.experience = namedtuple(\"Experience\", field_names=[\"state\", \"action\", \"reward\", \"next_state\", \"done\"])\n",
        "        self.seed = random.seed(seed)\n",
        "    \n",
        "    def add(self, state, action, reward, next_state, done):\n",
        "        \"\"\"Add a new experience to memory.\"\"\"\n",
        "        e = self.experience(state, action, reward, next_state, done)\n",
        "        self.memory.append(e)\n",
        "    \n",
        "    def sample(self):\n",
        "        \"\"\"Randomly sample a batch of experiences from memory.\"\"\"\n",
        "        experiences = random.sample(self.memory, k=self.batch_size)\n",
        "\n",
        "        states = torch.from_numpy(np.vstack([e.state for e in experiences if e is not None])).float().to(device)\n",
        "        actions = torch.from_numpy(np.vstack([e.action for e in experiences if e is not None])).long().to(device)\n",
        "        rewards = torch.from_numpy(np.vstack([e.reward for e in experiences if e is not None])).float().to(device)\n",
        "        next_states = torch.from_numpy(np.vstack([e.next_state for e in experiences if e is not None])).float().to(device)\n",
        "        dones = torch.from_numpy(np.vstack([e.done for e in experiences if e is not None]).astype(np.uint8)).float().to(device)\n",
        "  \n",
        "        return (states, actions, rewards, next_states, dones)\n",
        "\n",
        "    def __len__(self):\n",
        "        \"\"\"Return the current size of internal memory.\"\"\"\n",
        "        return len(self.memory)"
      ],
      "metadata": {
        "id": "4Ux80vI_S-pd"
      },
      "id": "4Ux80vI_S-pd",
      "execution_count": null,
      "outputs": []
    },
    {
      "cell_type": "code",
      "source": [
        "def train(n_episodes=2000, max_t=1000, eps_start=1.0, eps_end=0.05, eps_decay=0.995):\n",
        "\n",
        "    scores = []                 # list containing scores from each episode\n",
        "    rewards = []\n",
        "    scores_window_printing = deque(maxlen=10) # For printing in the graph\n",
        "    scores_window= deque(maxlen=100)  # last 100 scores for checking if the avg is more than 195\n",
        "    eps = eps_start                    # initialize epsilon\n",
        "    for i_episode in range(1, n_episodes+1):\n",
        "        state = env.reset()\n",
        "        score = 0\n",
        "        for t in range(max_t):\n",
        "            action = agent.act(state, eps)\n",
        "            next_state, reward, done, _ = env.step(action)\n",
        "            agent.step(state, action, reward, next_state, done)\n",
        "            state = next_state\n",
        "            score += reward\n",
        "            if done:\n",
        "                break \n",
        "        rewards.append(score) \n",
        "        if(len(rewards)%500==0):\n",
        "                 plt.figure(figsize=(10, 5))\n",
        "                 plot_rewards(rewards, 1, \"DQN\")\n",
        "        scores_window.append(score)       # save most recent score\n",
        "        scores_window_printing.append(score)              # save most recent score\n",
        "        eps = max(eps_end, eps_decay*eps) # decrease epsilon\n",
        "        print('\\rEpisode {}\\tAverage Score: {:.2f}'.format(i_episode, np.mean(scores_window)), end=\"\")  \n",
        "        if i_episode % 10 == 0: \n",
        "            scores.append(np.mean(scores_window_printing))        \n",
        "        if i_episode % 100 == 0: \n",
        "           print('\\rEpisode {}\\tAverage Score: {:.2f}'.format(i_episode, np.mean(scores_window)))\n",
        "        # if np.mean(scores_window)>=195.0:\n",
        "        #   print('\\nEnvironment solved in {:d} episodes!\\tAverage Score: {:.2f}'.format(i_episode-100, np.mean(scores_window)))\n",
        "        #   break\n",
        "    return rewards, [np.array(scores),i_episode-100]"
      ],
      "metadata": {
        "id": "5CXkVBiUTANW"
      },
      "id": "5CXkVBiUTANW",
      "execution_count": null,
      "outputs": []
    },
    {
      "cell_type": "markdown",
      "source": [
        "**Training the DQN agent**"
      ],
      "metadata": {
        "id": "XeuW0gNHfRjK"
      },
      "id": "XeuW0gNHfRjK"
    },
    {
      "cell_type": "code",
      "source": [
        "# Playing the game\n",
        "env = gym.make('CartPole-v1')\n",
        "env.seed(0)\n",
        "state_shape = env.observation_space.shape[0]\n",
        "action_shape = env.action_space.n\n",
        "\n",
        "# Trial run to check if algorithm runs and saves the data\n",
        "begin_time = datetime.datetime.now()\n",
        "agent = Agent(state_size=state_shape,action_size = action_shape,seed = 0)\n",
        "rewards,_ = train(n_episodes=200)\n",
        "time_taken = datetime.datetime.now() - begin_time\n",
        "print(time_taken)"
      ],
      "metadata": {
        "id": "7sZGkmOtTDot",
        "colab": {
          "base_uri": "https://localhost:8080/"
        },
        "outputId": "6f87f3a3-5e94-468f-a048-48c63e15c05d"
      },
      "id": "7sZGkmOtTDot",
      "execution_count": null,
      "outputs": [
        {
          "output_type": "stream",
          "name": "stdout",
          "text": [
            "Episode 100\tAverage Score: 34.61\n",
            "Episode 200\tAverage Score: 155.02\n",
            "0:01:22.011143\n"
          ]
        }
      ]
    },
    {
      "cell_type": "code",
      "source": [
        ""
      ],
      "metadata": {
        "id": "VVUqVnpuIS-U"
      },
      "id": "VVUqVnpuIS-U",
      "execution_count": null,
      "outputs": []
    },
    {
      "cell_type": "code",
      "source": [
        ""
      ],
      "metadata": {
        "id": "PZb-mgqWIS49"
      },
      "id": "PZb-mgqWIS49",
      "execution_count": null,
      "outputs": []
    },
    {
      "cell_type": "code",
      "source": [
        ""
      ],
      "metadata": {
        "id": "54JdR5lrIZxF"
      },
      "id": "54JdR5lrIZxF",
      "execution_count": null,
      "outputs": []
    },
    {
      "cell_type": "code",
      "source": [
        ""
      ],
      "metadata": {
        "id": "kPg2y9wUIZqU"
      },
      "id": "kPg2y9wUIZqU",
      "execution_count": null,
      "outputs": []
    },
    {
      "cell_type": "code",
      "source": [
        ""
      ],
      "metadata": {
        "id": "daQc2WE6IZlW"
      },
      "id": "daQc2WE6IZlW",
      "execution_count": null,
      "outputs": []
    },
    {
      "cell_type": "code",
      "source": [
        ""
      ],
      "metadata": {
        "id": "cQHVikqZIS0I"
      },
      "id": "cQHVikqZIS0I",
      "execution_count": null,
      "outputs": []
    },
    {
      "cell_type": "code",
      "source": [
        ""
      ],
      "metadata": {
        "id": "tX21XMmeIx5E"
      },
      "id": "tX21XMmeIx5E",
      "execution_count": null,
      "outputs": []
    },
    {
      "cell_type": "code",
      "source": [
        ""
      ],
      "metadata": {
        "id": "0vggAViVIrpG"
      },
      "id": "0vggAViVIrpG",
      "execution_count": null,
      "outputs": []
    },
    {
      "cell_type": "markdown",
      "source": [
        "**Plotting the training curve of the DQN agent**"
      ],
      "metadata": {
        "id": "9xETfrEbaj-E"
      },
      "id": "9xETfrEbaj-E"
    },
    {
      "cell_type": "code",
      "source": [
        "plt.figure(figsize=(10, 5))\n",
        "plot_rewards(rewards, 1, \"DQN\")"
      ],
      "metadata": {
        "id": "6RyhsLCHajLO",
        "colab": {
          "base_uri": "https://localhost:8080/",
          "height": 327
        },
        "outputId": "648e2f48-0de6-4286-97d1-c6287ea78bbe"
      },
      "id": "6RyhsLCHajLO",
      "execution_count": null,
      "outputs": [
        {
          "output_type": "display_data",
          "data": {
            "image/png": "[encoded data removed]",
            "text/plain": [
              "<Figure size 720x360 with 1 Axes>"
            ]
          },
          "metadata": {
            "needs_background": "light"
          }
        }
      ]
    },
    {
      "cell_type": "markdown",
      "source": [
        "**Task 2: Rendering an episode with the trained DQN agent**\n",
        "\n",
        "Your task will be to run an episode of simulation with the DQN agent. After every 50 steps of the episode, **you are to print the step reward r as well as the cumulative reward from the beginning of the episode**. Complete the code and run the function to render the episode. The function returns the cumulative reward"
      ],
      "metadata": {
        "id": "3g_rtlYrTUW4"
      },
      "id": "3g_rtlYrTUW4"
    },
    {
      "cell_type": "code",
      "source": [
        "print(agent.act(env.reset()))"
      ],
      "metadata": {
        "id": "cu5tl9eS0h8W",
        "colab": {
          "base_uri": "https://localhost:8080/"
        },
        "outputId": "35825b63-b1aa-402f-b7bf-0b7d36c3746a"
      },
      "id": "cu5tl9eS0h8W",
      "execution_count": null,
      "outputs": [
        {
          "output_type": "stream",
          "name": "stdout",
          "text": [
            "0\n"
          ]
        }
      ]
    },
    {
      "cell_type": "code",
      "source": [
        "def simulate_episode_dqn(env, wrap = False, render = False, video = False, log = False): #if log==True, print the step reward and cumulative reward\n",
        "    \n",
        "    if(wrap):\n",
        "      env = wrap_env(env) \n",
        "\n",
        "    obs = env.reset()\n",
        "    cumulative_reward = 0\n",
        "    \n",
        "    while True:\n",
        "      #Rendering function  \n",
        "        if(render):\n",
        "          env.render()\n",
        "        \n",
        "        #take an action, take a step and continue the episode if the next state is not terminal. Print required data every 50 steps\n",
        "        action = agent.act(obs)\n",
        "        obs, reward, done, _ = env.step(action) \n",
        "        if done:\n",
        "          break\n",
        "        cumulative_reward += reward\n",
        "        if log:\n",
        "          if not cumulative_reward%50 and not done:\n",
        "            print('Step reward: ', reward)\n",
        "            print('Cumulative reward: ', cumulative_reward)\n",
        "                  \n",
        "    env.close()\n",
        "    if(video):\n",
        "      show_video()\n",
        "    return cumulative_reward"
      ],
      "metadata": {
        "id": "fn0ipuujulIS"
      },
      "id": "fn0ipuujulIS",
      "execution_count": null,
      "outputs": []
    },
    {
      "cell_type": "code",
      "source": [
        "#Make environment\n",
        "total_rew = simulate_episode_dqn(env, wrap = True, render = True, video = True, log = True)\n",
        "print(\"Cumulative reward after episode termination\", total_rew)"
      ],
      "metadata": {
        "id": "FXoRZSzvtBJG",
        "colab": {
          "base_uri": "https://localhost:8080/",
          "height": 667
        },
        "outputId": "9941fc24-6f9d-44ce-fd4b-1bbe997b792e"
      },
      "id": "FXoRZSzvtBJG",
      "execution_count": null,
      "outputs": [
        {
          "output_type": "stream",
          "name": "stdout",
          "text": [
            "Step reward:  1.0\n",
            "Cumulative reward:  50.0\n",
            "Step reward:  1.0\n",
            "Cumulative reward:  100.0\n",
            "Step reward:  1.0\n",
            "Cumulative reward:  150.0\n",
            "Step reward:  1.0\n",
            "Cumulative reward:  200.0\n",
            "Step reward:  1.0\n",
            "Cumulative reward:  250.0\n",
            "Step reward:  1.0\n",
            "Cumulative reward:  300.0\n"
          ]
        },
        {
          "output_type": "display_data",
          "data": {
            "text/html": [
              "<video alt=\"test\" autoplay \n",
              "                loop controls style=\"height: 400px;\">\n",
              "                <source src=\"data:video/mp4;base64,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\" type=\"video/mp4\" />\n",
              "             </video>"
            ],
            "text/plain": [
              "<IPython.core.display.HTML object>"
            ]
          },
          "metadata": {}
        },
        {
          "output_type": "stream",
          "name": "stdout",
          "text": [
            "Cumulative reward after episode termination 314.0\n"
          ]
        }
      ]
    },
    {
      "cell_type": "code",
      "source": [
        ""
      ],
      "metadata": {
        "id": "JFzSf3JXI8BQ"
      },
      "id": "JFzSf3JXI8BQ",
      "execution_count": null,
      "outputs": []
    },
    {
      "cell_type": "code",
      "source": [
        ""
      ],
      "metadata": {
        "id": "Hb5MZUgwI7-X"
      },
      "id": "Hb5MZUgwI7-X",
      "execution_count": null,
      "outputs": []
    },
    {
      "cell_type": "code",
      "source": [
        ""
      ],
      "metadata": {
        "id": "IH6AkXz7I77h"
      },
      "id": "IH6AkXz7I77h",
      "execution_count": null,
      "outputs": []
    },
    {
      "cell_type": "code",
      "source": [
        ""
      ],
      "metadata": {
        "id": "OxyMFl4yI74n"
      },
      "id": "OxyMFl4yI74n",
      "execution_count": null,
      "outputs": []
    },
    {
      "cell_type": "code",
      "source": [
        ""
      ],
      "metadata": {
        "id": "TO-t8_dfI71j"
      },
      "id": "TO-t8_dfI71j",
      "execution_count": null,
      "outputs": []
    },
    {
      "cell_type": "code",
      "source": [
        ""
      ],
      "metadata": {
        "id": "PpJOrJapI7y8"
      },
      "id": "PpJOrJapI7y8",
      "execution_count": null,
      "outputs": []
    },
    {
      "cell_type": "code",
      "source": [
        ""
      ],
      "metadata": {
        "id": "VPx_0mCRI7vz"
      },
      "id": "VPx_0mCRI7vz",
      "execution_count": null,
      "outputs": []
    },
    {
      "cell_type": "code",
      "source": [
        ""
      ],
      "metadata": {
        "id": "yJmmyXDiI7tx"
      },
      "id": "yJmmyXDiI7tx",
      "execution_count": null,
      "outputs": []
    },
    {
      "cell_type": "code",
      "source": [
        ""
      ],
      "metadata": {
        "id": "1GAywVEjI7p1"
      },
      "id": "1GAywVEjI7p1",
      "execution_count": null,
      "outputs": []
    },
    {
      "cell_type": "code",
      "source": [
        ""
      ],
      "metadata": {
        "id": "c-wNi2_6I7nb"
      },
      "id": "c-wNi2_6I7nb",
      "execution_count": null,
      "outputs": []
    },
    {
      "cell_type": "code",
      "source": [
        ""
      ],
      "metadata": {
        "id": "yLftWdvyI7ks"
      },
      "id": "yLftWdvyI7ks",
      "execution_count": null,
      "outputs": []
    },
    {
      "cell_type": "code",
      "source": [
        ""
      ],
      "metadata": {
        "id": "kR3sMicFI7iP"
      },
      "id": "kR3sMicFI7iP",
      "execution_count": null,
      "outputs": []
    },
    {
      "cell_type": "code",
      "source": [
        ""
      ],
      "metadata": {
        "id": "7N5w5u2UI7fk"
      },
      "id": "7N5w5u2UI7fk",
      "execution_count": null,
      "outputs": []
    },
    {
      "cell_type": "code",
      "source": [
        ""
      ],
      "metadata": {
        "id": "4GJla1gPI7cu"
      },
      "id": "4GJla1gPI7cu",
      "execution_count": null,
      "outputs": []
    },
    {
      "cell_type": "markdown",
      "source": [
        "## ------------------ **THANK YOU** ------------------- "
      ],
      "metadata": {
        "id": "bSzLKukxwlAc"
      },
      "id": "bSzLKukxwlAc"
    }
  ],
  "metadata": {
    "kernelspec": {
      "display_name": "Python 3 (ipykernel)",
      "language": "python",
      "name": "python3"
    },
    "language_info": {
      "codemirror_mode": {
        "name": "ipython",
        "version": 3
      },
      "file_extension": ".py",
      "mimetype": "text/x-python",
      "name": "python",
      "nbconvert_exporter": "python",
      "pygments_lexer": "ipython3",
      "version": "3.9.7"
    },
    "colab": {
      "name": "Tutorial_1_Monday.ipynb",
      "provenance": [],
      "collapsed_sections": []
    },
    "accelerator": "GPU"
  },
  "nbformat": 4,
  "nbformat_minor": 5
}